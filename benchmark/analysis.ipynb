{
 "cells": [
  {
   "cell_type": "code",
   "execution_count": null,
   "source": [
    "# Set here the folder path contains the benchmark results\n",
    "PATH = \"/data/\"\n",
    "DATASET_FILES = [\"20K\", \"200K\", \"2M\", \"14M\", \"28M\"]"
   ],
   "outputs": [],
   "metadata": {}
  },
  {
   "cell_type": "code",
   "execution_count": null,
   "source": [],
   "outputs": [],
   "metadata": {}
  }
 ],
 "metadata": {
  "orig_nbformat": 4,
  "language_info": {
   "name": "python",
   "version": "3.9.0"
  },
  "kernelspec": {
   "name": "python3",
   "display_name": "Python 3.9.0 64-bit"
  },
  "interpreter": {
   "hash": "aee8b7b246df8f9039afb4144a1f6fd8d2ca17a180786b69acc140d282b71a49"
  }
 },
 "nbformat": 4,
 "nbformat_minor": 2
}